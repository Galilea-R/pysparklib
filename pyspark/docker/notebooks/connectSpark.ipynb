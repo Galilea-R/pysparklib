{
 "cells": [
  {
   "cell_type": "markdown",
   "metadata": {},
   "source": [
    "# Spark Connect\n",
    "Spark connect introduce una arquitectura cliente-servido desacoplada para Spark que permite la conectividad remota a los clústeres de Spark utilizando la __API de DataFrame__."
   ]
  },
  {
   "cell_type": "code",
   "execution_count": null,
   "metadata": {},
   "outputs": [],
   "source": [
    "!$HOME/sbin/start-connect-server.sh --packages org.apache.spark:spark-connect_2.12:$SPARK_VERSION\n"
   ]
  },
  {
   "cell_type": "markdown",
   "metadata": {},
   "source": [
    "## Contectar a Spark Connect servidor\n",
    "Ahora que el servidor de spark esta corriendo, podemos conectarnos de manera remota a spark connect. Hacemos esto creando una sesión remota de Spark en el cliente donde se ejecuta nuestra aplicación. Antes de hacerlo, debemos asegurarnos de detener la sesión regular existente de Spark, ya que no puede coexistir con la sesión remota de Spark Connect que estamos a punto de crear."
   ]
  },
  {
   "cell_type": "code",
   "execution_count": null,
   "metadata": {},
   "outputs": [],
   "source": [
    "from pyspark.sql import SparkSession\n",
    "\n",
    "SparkSession.builder.master(\"local[*]\").getOrCreate().stop()\n",
    "\n",
    "spark = SparkSession.builder.remote(\"sc://localhost:15002\").getOrCreate()"
   ]
  },
  {
   "cell_type": "markdown",
   "metadata": {},
   "source": []
  }
 ],
 "metadata": {
  "kernelspec": {
   "display_name": "itam",
   "language": "python",
   "name": "python3"
  },
  "language_info": {
   "codemirror_mode": {
    "name": "ipython",
    "version": 3
   },
   "file_extension": ".py",
   "mimetype": "text/x-python",
   "name": "python",
   "nbconvert_exporter": "python",
   "pygments_lexer": "ipython3",
   "version": "3.11.5"
  }
 },
 "nbformat": 4,
 "nbformat_minor": 2
}
